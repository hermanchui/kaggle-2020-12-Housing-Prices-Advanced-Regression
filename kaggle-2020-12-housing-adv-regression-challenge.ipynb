{
 "cells": [
  {
   "cell_type": "code",
   "execution_count": 1,
   "metadata": {
    "_cell_guid": "b1076dfc-b9ad-4769-8c92-a6c4dae69d19",
    "_uuid": "8f2839f25d086af736a60e9eeb907d3b93b6e0e5",
    "execution": {
     "iopub.execute_input": "2021-01-04T00:53:26.461577Z",
     "iopub.status.busy": "2021-01-04T00:53:26.460777Z",
     "iopub.status.idle": "2021-01-04T00:53:33.135826Z",
     "shell.execute_reply": "2021-01-04T00:53:33.136535Z"
    },
    "papermill": {
     "duration": 6.68808,
     "end_time": "2021-01-04T00:53:33.136719",
     "exception": false,
     "start_time": "2021-01-04T00:53:26.448639",
     "status": "completed"
    },
    "tags": []
   },
   "outputs": [
    {
     "name": "stdout",
     "output_type": "stream",
     "text": [
      "/kaggle/input/house-prices-advanced-regression-techniques/sample_submission.csv\n",
      "/kaggle/input/house-prices-advanced-regression-techniques/data_description.txt\n",
      "/kaggle/input/house-prices-advanced-regression-techniques/train.csv\n",
      "/kaggle/input/house-prices-advanced-regression-techniques/test.csv\n"
     ]
    }
   ],
   "source": [
    "import numpy as np # linear algebra\n",
    "import pandas as pd # data processing, CSV file I/O (e.g. pd.read_csv)\n",
    "import tensorflow as tf\n",
    "from tensorflow import keras\n",
    "import matplotlib.pyplot as plt\n",
    "from sklearn.preprocessing import OneHotEncoder\n",
    "\n",
    "import os\n",
    "for dirname, _, filenames in os.walk('/kaggle/input'):\n",
    "    for filename in filenames:\n",
    "        print(os.path.join(dirname, filename))"
   ]
  },
  {
   "cell_type": "code",
   "execution_count": 2,
   "metadata": {
    "execution": {
     "iopub.execute_input": "2021-01-04T00:53:33.192864Z",
     "iopub.status.busy": "2021-01-04T00:53:33.177587Z",
     "iopub.status.idle": "2021-01-04T00:53:33.635159Z",
     "shell.execute_reply": "2021-01-04T00:53:33.636033Z"
    },
    "papermill": {
     "duration": 0.489585,
     "end_time": "2021-01-04T00:53:33.636232",
     "exception": false,
     "start_time": "2021-01-04T00:53:33.146647",
     "status": "completed"
    },
    "tags": []
   },
   "outputs": [
    {
     "name": "stdout",
     "output_type": "stream",
     "text": [
      "(1100, 227) (1100,) (360, 227) (360,) (1459,) (1459, 227)\n"
     ]
    }
   ],
   "source": [
    "# Load and pre-process the dataset \n",
    "# 1. Load datasets\n",
    "train_data = pd.read_csv('/kaggle/input/house-prices-advanced-regression-techniques/train.csv')\n",
    "test_data = pd.read_csv('/kaggle/input/house-prices-advanced-regression-techniques/test.csv')\n",
    "\n",
    "# 2. Extract labels \n",
    "y_train = train_data['SalePrice'].to_numpy().astype(np.float)\n",
    "train_data.drop('SalePrice',axis=1,inplace=True)\n",
    "\n",
    "# 3, Extract test data ids and drop ids\n",
    "test_ids = test_data['Id'].to_numpy().astype(np.int)\n",
    "test_data.drop('Id', axis=1, inplace=True)\n",
    "train_data.drop('Id', axis=1, inplace=True)\n",
    "\n",
    "# 4. Concatenate training and test datasets so that one hot vector creation works properly (creates columns for all categories)\n",
    "train_data_rows = len(train_data.index)\n",
    "train_data = pd.concat([train_data, test_data])\n",
    "\n",
    "# 5. Change qualitative scales to quantitative values\n",
    "train_data.loc[:,'LotShape'] = train_data.loc[:,'LotShape'].replace(['Reg','IR1','IR2','IR3'],[1.5,0.5,-0.5,-1.5])\n",
    "train_data.drop('LotShape',axis=1,inplace=True)\n",
    "train_data.loc[:,'LandSlope'] = train_data.loc[:,'LandSlope'].replace(['Gtl','Mod','Sev'],[1.,0.,-1.])\n",
    "train_data.drop('LandSlope',axis=1,inplace=True)\n",
    "train_data.loc[:,'ExterQual'] = train_data.loc[:,'ExterQual'].replace(['Ex','Gd','TA','Fa','Po'],[1.,0.5,0.,-0.5,-1.])\n",
    "train_data.drop('ExterQual',axis=1,inplace=True)\n",
    "train_data.loc[:,'ExterCond'] = train_data.loc[:,'ExterCond'].replace(['Ex','Gd','TA','Fa','Po'],[1.,0.5,0.,-0.5,-1.])\n",
    "train_data.drop('ExterCond',axis=1,inplace=True)\n",
    "train_data.loc[:,'BsmtQual'] = train_data.loc[:,'BsmtQual'].replace(['Ex','Gd','TA','Fa','Po'],[1.,0.5,0.,-0.5,-1.])\n",
    "train_data['BsmtQual'].fillna(-1.5, inplace = True)\n",
    "train_data.drop('BsmtQual',axis=1,inplace=True)\n",
    "train_data.loc[:,'BsmtCond'] = train_data.loc[:,'BsmtCond'].replace(['Ex','Gd','TA','Fa','Po'],[1.,0.5,0.,-0.5,-1.])\n",
    "train_data['BsmtCond'].fillna(-1.5, inplace = True)\n",
    "train_data.drop('BsmtCond',axis=1,inplace=True)\n",
    "train_data.loc[:,'BsmtExposure'] = train_data.loc[:,'BsmtExposure'].replace(['Gd','Av','Mn','No'],[1.,0.5,0.,-0.5])\n",
    "train_data['BsmtExposure'].fillna(-1., inplace = True)\n",
    "train_data.drop('BsmtExposure',axis=1,inplace=True)\n",
    "train_data.loc[:,'BsmtFinType1'] = train_data.loc[:,'BsmtFinType1'].replace(['GLQ','ALQ','BLQ','Rec','LwQ','Unf'],[1.5,1.0,0.5,0.,-0.5,-1.])\n",
    "train_data['BsmtFinType1'].fillna(-1.5, inplace = True)\n",
    "train_data.drop('BsmtFinType1',axis=1,inplace=True)\n",
    "train_data.loc[:,'BsmtFinType2'] = train_data.loc[:,'BsmtFinType2'].replace(['GLQ','ALQ','BLQ','Rec','LwQ','Unf'],[1.5,1.0,0.5,0.,-0.5,-1.])\n",
    "train_data['BsmtFinType2'].fillna(-1.5, inplace = True)\n",
    "train_data.drop('BsmtFinType2',axis=1,inplace=True)\n",
    "train_data.loc[:,'HeatingQC'] = train_data.loc[:,'HeatingQC'].replace(['Ex','Gd','TA','Fa','Po'],[1.,0.5,0.,-0.5,-1.])\n",
    "train_data.drop('HeatingQC',axis=1,inplace=True)\n",
    "train_data.loc[:,'KitchenQual'] = train_data.loc[:,'KitchenQual'].replace(['Ex','Gd','TA','Fa','Po'],[1.,0.5,0.,-0.5,-1.])\n",
    "train_data['KitchenQual'].fillna(0., inplace = True)\n",
    "train_data.drop('KitchenQual',axis=1,inplace=True)\n",
    "train_data.loc[:,'Functional'] = train_data.loc[:,'Functional'].replace(['Typ','Min1','Min2','Mod','Maj1','Maj2','Sev','Sal'],[1.5,1.,0.5,0.,-0.5,-1.,-1.5,-2.])# train_data = pd.get_dummies(train_data)\n",
    "train_data['Functional'].fillna(1.5, inplace = True)\n",
    "train_data.drop('Functional',axis=1,inplace=True)\n",
    "train_data.loc[:,'FireplaceQu'] = train_data.loc[:,'FireplaceQu'].replace(['Ex','Gd','TA','Fa','Po'],[1.,0.5,0.,-0.5,-1.])\n",
    "train_data['FireplaceQu'].fillna(-1.5, inplace = True)\n",
    "train_data.drop('FireplaceQu',axis=1,inplace=True)\n",
    "train_data.loc[:,'GarageFinish'] = train_data.loc[:,'GarageFinish'].replace(['Fin','RFn','Unf'],[1.5,0.5,-0.5])\n",
    "train_data['GarageFinish'].fillna(-1.5, inplace = True)\n",
    "train_data.drop('GarageFinish',axis=1,inplace=True)\n",
    "train_data.loc[:,'GarageQual'] = train_data.loc[:,'GarageQual'].replace(['Ex','Gd','TA','Fa','Po'],[1.,0.5,0.,-0.5,-1.])\n",
    "train_data['GarageQual'].fillna(-1.5, inplace = True)\n",
    "train_data.drop('GarageQual',axis=1,inplace=True)\n",
    "train_data.loc[:,'GarageCond'] = train_data.loc[:,'GarageCond'].replace(['Ex','Gd','TA','Fa','Po'],[1.,0.5,0.,-0.5,-1.])\n",
    "train_data['GarageCond'].fillna(-1.5, inplace = True)\n",
    "train_data.drop('GarageCond',axis=1,inplace=True)\n",
    "train_data.loc[:,'PoolQC'] = train_data.loc[:,'PoolQC'].replace(['Ex','Gd','TA','Fa'],[1.,0.5,0.,-0.5])\n",
    "train_data['PoolQC'].fillna(0., inplace = True)\n",
    "train_data.drop('PoolQC',axis=1,inplace=True)\n",
    "train_data['BsmtFullBath'].fillna(0, inplace = True)\n",
    "train_data['BsmtHalfBath'].fillna(0, inplace = True)\n",
    "train_data['GarageCars'].fillna(0, inplace = True)\n",
    "train_data['SaleType'].fillna(train_data['SaleType'].mode()[0], inplace = True)\n",
    "train_data['Exterior1st'].fillna(train_data['Exterior1st'].mode()[0], inplace = True)\n",
    "train_data['Exterior2nd'].fillna(train_data['Exterior2nd'].mode()[0], inplace = True)\n",
    "\n",
    "# 6. Combine month and year columns\n",
    "train_data.loc[:,'YrSold'] = train_data.loc[:,'YrSold'] + train_data.loc[:,'MoSold']/12.\n",
    "train_data.drop('MoSold',axis=1,inplace=True)\n",
    "\n",
    "# 7. For quantitative columns, normalize and fill NaN values\n",
    "area_columns = ['LotArea', 'MasVnrArea','BsmtFinSF1', 'BsmtFinSF2', 'BsmtUnfSF', 'TotalBsmtSF', '1stFlrSF', '2ndFlrSF', 'LowQualFinSF', \n",
    "                'GrLivArea', 'GarageArea', 'WoodDeckSF', 'OpenPorchSF', 'EnclosedPorch', '3SsnPorch', 'ScreenPorch', 'PoolArea']\n",
    "for col in area_columns:   # fill NaN values with zero area\n",
    "    train_data[col].fillna(0., inplace = True)\n",
    "col_mean, col_std = train_data[area_columns].mean(), train_data[area_columns].std()\n",
    "train_data.loc[:,area_columns] = (train_data.loc[:,area_columns] - col_mean) / col_std\n",
    "\n",
    "norm_columns = ['LotFrontage', 'OverallQual', 'OverallCond', 'YearBuilt', 'YearRemodAdd', 'GarageYrBlt', 'MiscVal','YrSold']\n",
    "col_mean, col_std = train_data[norm_columns].mean(), train_data[norm_columns].std()\n",
    "for col, mean in zip(norm_columns, col_mean):   # fill NaN values with mean of the column\n",
    "    train_data[col].fillna(mean, inplace = True)\n",
    "train_data.loc[:,norm_columns] = (train_data.loc[:,norm_columns] - col_mean) / col_std\n",
    "\n",
    "# 8. Create new features for total square footage and total number of bathrooms\n",
    "train_data['TotalSF'] = train_data.loc[:,'1stFlrSF'] + train_data.loc[:,'2ndFlrSF'] + train_data.loc[:,'TotalBsmtSF']\n",
    "train_data['TotalBathrooms'] = train_data.loc[:,'FullBath'] + 0.5*train_data.loc[:,'HalfBath']  + train_data.loc[:,'BsmtFullBath'] + 0.5*train_data.loc[:,'BsmtHalfBath']\n",
    "    \n",
    "# 9. Convert 'MSSubClass' into categorical\n",
    "train_data.loc[:,'MSSubClass'] = train_data.loc[:,'MSSubClass'].apply(str)\n",
    "\n",
    "# 10. Convert categorical to one hot encoding\n",
    "train_data = pd.get_dummies(train_data)\n",
    "\n",
    "# 11. Split data back into training and eval datasets\n",
    "test_data = train_data.iloc[train_data_rows:,:]\n",
    "train_data = train_data.iloc[:train_data_rows,:]\n",
    "\n",
    "# 12. Convert to numpy float arrays\n",
    "x_train = train_data.to_numpy().astype(np.float)\n",
    "x_test = test_data.to_numpy().astype(np.float)\n",
    "y_train = y_train.astype(np.float)\n",
    "\n",
    "# 13. Shuffle training data\n",
    "indices = np.arange(x_train.shape[0])  # randomly shuffle order of data\n",
    "np.random.seed(3)\n",
    "np.random.shuffle(indices)\n",
    "\n",
    "# 14. Split into train and eval datasets\n",
    "split_index = 1100\n",
    "x_train_original = x_train[indices,:]\n",
    "y_train_original = y_train[indices]\n",
    "x_eval = x_train_original[split_index:,:]\n",
    "y_eval = y_train_original[split_index:]\n",
    "x_train = x_train_original[:split_index,:]\n",
    "y_train = y_train_original[:split_index]\n",
    "print(x_train.shape, y_train.shape, x_eval.shape, y_eval.shape, test_ids.shape, x_test.shape)\n",
    "\n",
    "# 15. Check no null entries and show sample\n",
    "# pd.set_option('display.max_columns', 300)\n",
    "# print(train_data.isnull().sum().sum())\n",
    "# pd.set_option('display.max_rows', 500)\n",
    "# train_data.sample(100)"
   ]
  },
  {
   "cell_type": "code",
   "execution_count": 3,
   "metadata": {
    "execution": {
     "iopub.execute_input": "2021-01-04T00:53:33.667291Z",
     "iopub.status.busy": "2021-01-04T00:53:33.665998Z",
     "iopub.status.idle": "2021-01-04T00:53:45.961311Z",
     "shell.execute_reply": "2021-01-04T00:53:45.960637Z"
    },
    "papermill": {
     "duration": 12.314902,
     "end_time": "2021-01-04T00:53:45.961447",
     "exception": false,
     "start_time": "2021-01-04T00:53:33.646545",
     "status": "completed"
    },
    "tags": []
   },
   "outputs": [
    {
     "data": {
      "image/png": "[encoded data removed]",
      "text/plain": [
       "<Figure size 432x288 with 1 Axes>"
      ]
     },
     "metadata": {
      "needs_background": "light"
     },
     "output_type": "display_data"
    }
   ],
   "source": [
    "# train with portion of original training set and validate with remainder\n",
    "keras.backend.clear_session()\n",
    "model = tf.keras.models.Sequential([\n",
    "                            tf.keras.layers.Dense(256,activation='relu'),\n",
    "                            tf.keras.layers.Dense(256,activation='relu'),\n",
    "                            tf.keras.layers.Dense(256,activation='relu'),\n",
    "                            tf.keras.layers.Dense(1, activation='linear')])\n",
    "model.compile(optimizer='adam', loss='mean_absolute_error', metrics=['mean_absolute_error'])\n",
    "history = model.fit(x_train, y_train, epochs=100, batch_size = 32, validation_data = (x_eval, y_eval), verbose=0)\n",
    "plt.ylim(top=16000, bottom=8000)\n",
    "plt.plot(history.history['loss'])\n",
    "plt.plot(history.history['val_loss'])\n",
    "plt.title('model loss')\n",
    "plt.ylabel('loss')\n",
    "plt.xlabel('epoch')\n",
    "plt.legend(['train', 'eval'], loc='upper left')\n",
    "plt.show()"
   ]
  },
  {
   "cell_type": "code",
   "execution_count": 4,
   "metadata": {
    "execution": {
     "iopub.execute_input": "2021-01-04T00:53:45.997800Z",
     "iopub.status.busy": "2021-01-04T00:53:45.985814Z",
     "iopub.status.idle": "2021-01-04T00:53:50.298596Z",
     "shell.execute_reply": "2021-01-04T00:53:50.298062Z"
    },
    "papermill": {
     "duration": 4.328985,
     "end_time": "2021-01-04T00:53:50.298703",
     "exception": false,
     "start_time": "2021-01-04T00:53:45.969718",
     "status": "completed"
    },
    "tags": []
   },
   "outputs": [
    {
     "data": {
      "image/png": "[encoded data removed]",
      "text/plain": [
       "<Figure size 432x288 with 1 Axes>"
      ]
     },
     "metadata": {
      "needs_background": "light"
     },
     "output_type": "display_data"
    }
   ],
   "source": [
    "# train with full training set with 'optimal' number of epochs\n",
    "keras.backend.clear_session()\n",
    "model = tf.keras.models.Sequential([\n",
    "                            tf.keras.layers.Dense(256,activation='relu'),\n",
    "                            tf.keras.layers.Dense(256,activation='relu'),\n",
    "                            tf.keras.layers.Dense(256,activation='relu'),\n",
    "                            tf.keras.layers.Dense(1, activation='linear')])\n",
    "model.compile(optimizer='adam', loss='mean_absolute_error', metrics=['mean_absolute_error'])\n",
    "history = model.fit(x_train_original, y_train_original, epochs=35, batch_size = 32, verbose=0)\n",
    "plt.ylim(top=16000, bottom=8000)\n",
    "plt.plot(history.history['loss'])\n",
    "plt.title('model loss')\n",
    "plt.ylabel('loss')\n",
    "plt.xlabel('epoch')\n",
    "plt.legend('train', loc='upper left')\n",
    "plt.show()"
   ]
  },
  {
   "cell_type": "code",
   "execution_count": 5,
   "metadata": {
    "execution": {
     "iopub.execute_input": "2021-01-04T00:53:50.324323Z",
     "iopub.status.busy": "2021-01-04T00:53:50.323757Z",
     "iopub.status.idle": "2021-01-04T00:53:50.772926Z",
     "shell.execute_reply": "2021-01-04T00:53:50.772356Z"
    },
    "papermill": {
     "duration": 0.46503,
     "end_time": "2021-01-04T00:53:50.773040",
     "exception": false,
     "start_time": "2021-01-04T00:53:50.308010",
     "status": "completed"
    },
    "tags": []
   },
   "outputs": [],
   "source": [
    "predictions = model.predict(x_test).reshape(x_test.shape[0])\n",
    "output = pd.DataFrame({'Id': test_ids, 'SalePrice': predictions})\n",
    "output.to_csv('my_submission.csv', index=False)"
   ]
  },
  {
   "cell_type": "code",
   "execution_count": 6,
   "metadata": {
    "execution": {
     "iopub.execute_input": "2021-01-04T00:53:50.799438Z",
     "iopub.status.busy": "2021-01-04T00:53:50.798691Z",
     "iopub.status.idle": "2021-01-04T00:53:50.804663Z",
     "shell.execute_reply": "2021-01-04T00:53:50.803708Z"
    },
    "papermill": {
     "duration": 0.022157,
     "end_time": "2021-01-04T00:53:50.804803",
     "exception": false,
     "start_time": "2021-01-04T00:53:50.782646",
     "status": "completed"
    },
    "tags": []
   },
   "outputs": [
    {
     "name": "stdout",
     "output_type": "stream",
     "text": [
      "Model: \"sequential\"\n",
      "_________________________________________________________________\n",
      "Layer (type)                 Output Shape              Param #   \n",
      "=================================================================\n",
      "dense (Dense)                (None, 256)               58368     \n",
      "_________________________________________________________________\n",
      "dense_1 (Dense)              (None, 256)               65792     \n",
      "_________________________________________________________________\n",
      "dense_2 (Dense)              (None, 256)               65792     \n",
      "_________________________________________________________________\n",
      "dense_3 (Dense)              (None, 1)                 257       \n",
      "=================================================================\n",
      "Total params: 190,209\n",
      "Trainable params: 190,209\n",
      "Non-trainable params: 0\n",
      "_________________________________________________________________\n"
     ]
    }
   ],
   "source": [
    "model.summary()"
   ]
  },
  {
   "cell_type": "code",
   "execution_count": null,
   "metadata": {
    "papermill": {
     "duration": 0.009222,
     "end_time": "2021-01-04T00:53:50.823920",
     "exception": false,
     "start_time": "2021-01-04T00:53:50.814698",
     "status": "completed"
    },
    "tags": []
   },
   "outputs": [],
   "source": []
  }
 ],
 "metadata": {
  "kernelspec": {
   "display_name": "Python 3",
   "language": "python",
   "name": "python3"
  },
  "language_info": {
   "codemirror_mode": {
    "name": "ipython",
    "version": 3
   },
   "file_extension": ".py",
   "mimetype": "text/x-python",
   "name": "python",
   "nbconvert_exporter": "python",
   "pygments_lexer": "ipython3",
   "version": "3.7.6"
  },
  "papermill": {
   "duration": 29.793194,
   "end_time": "2021-01-04T00:53:50.940733",
   "environment_variables": {},
   "exception": null,
   "input_path": "__notebook__.ipynb",
   "output_path": "__notebook__.ipynb",
   "parameters": {},
   "start_time": "2021-01-04T00:53:21.147539",
   "version": "2.1.0"
  }
 },
 "nbformat": 4,
 "nbformat_minor": 4
}
